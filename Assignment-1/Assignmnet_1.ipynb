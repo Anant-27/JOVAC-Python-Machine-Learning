{
 "cells": [
  {
   "cell_type": "markdown",
   "id": "93ea1685",
   "metadata": {},
   "source": [
    "# TASK-1:\n",
    "## WAP to make a custom exception."
   ]
  },
  {
   "cell_type": "code",
   "execution_count": 1,
   "id": "7eaccdf0",
   "metadata": {},
   "outputs": [
    {
     "name": "stdout",
     "output_type": "stream",
     "text": [
      "Custom error caught: Input must not be a negative number!\n"
     ]
    }
   ],
   "source": [
    "class NegativeNumberError(Exception):\n",
    "    def __init__(self, detail):\n",
    "        super().__init__(detail)\n",
    "\n",
    "def validate_input(value):\n",
    "    if value < 0:\n",
    "        raise NegativeNumberError(\"Input must not be a negative number!\")\n",
    "    else:\n",
    "        print(f\"Valid input: {value}\")\n",
    "\n",
    "try:\n",
    "    validate_input(-5)\n",
    "except NegativeNumberError as err:\n",
    "    print(\"Custom error caught:\", err)"
   ]
  },
  {
   "cell_type": "markdown",
   "id": "5ba96fa4",
   "metadata": {},
   "source": [
    "# TASK-2:\n",
    "## WAP to make a 2-d array and read & write it in a CSV format."
   ]
  },
  {
   "cell_type": "code",
   "execution_count": null,
   "id": "356493ca",
   "metadata": {},
   "outputs": [
    {
     "name": "stdout",
     "output_type": "stream",
     "text": [
      "Matrix data has been successfully written to output_matrix.csv\n",
      "Contents of output_matrix.csv:\n",
      "['10', '20', '30']\n",
      "['40', '50', '60']\n",
      "['70', '80', '90']\n"
     ]
    }
   ],
   "source": [
    "import csv\n",
    "matrix_data = [\n",
    "    [10, 20, 30],\n",
    "    [40, 50, 60],\n",
    "    [70, 80, 90]\n",
    "]\n",
    "with open(\"output_matrix.csv\", mode=\"w\", newline=\"\") as output_file:\n",
    "    csv_writer = csv.writer(output_file)\n",
    "    csv_writer.writerows(matrix_data)\n",
    "print(\"Matrix data has been successfully written to output_matrix.csv\")\n",
    "print(\"Contents of output_matrix.csv:\")\n",
    "with open(\"output_matrix.csv\", mode=\"r\") as input_file:\n",
    "    csv_reader = csv.reader(input_file)\n",
    "    for line in csv_reader:\n",
    "        print(line)"
   ]
  }
 ],
 "metadata": {
  "kernelspec": {
   "display_name": "Python 3",
   "language": "python",
   "name": "python3"
  },
  "language_info": {
   "codemirror_mode": {
    "name": "ipython",
    "version": 3
   },
   "file_extension": ".py",
   "mimetype": "text/x-python",
   "name": "python",
   "nbconvert_exporter": "python",
   "pygments_lexer": "ipython3",
   "version": "3.12.3"
  }
 },
 "nbformat": 4,
 "nbformat_minor": 5
}
