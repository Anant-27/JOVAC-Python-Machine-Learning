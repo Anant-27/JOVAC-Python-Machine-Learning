{
 "cells": [
  {
   "cell_type": "markdown",
   "id": "3c66fb9a",
   "metadata": {},
   "source": [
    "# PART-1:\n",
    "\n",
    "## Numpy Questions."
   ]
  },
  {
   "cell_type": "markdown",
   "id": "61c49b58",
   "metadata": {},
   "source": [
    "### TASK-1:\n",
    "1. Write a Python program to:  \n",
    "o Create a 1D NumPy array of 10 integers ranging from 1 to 10."
   ]
  },
  {
   "cell_type": "code",
   "execution_count": null,
   "id": "ae68c412",
   "metadata": {},
   "outputs": [
    {
     "name": "stdout",
     "output_type": "stream",
     "text": [
      "[ 1  2  3  4  5  6  7  8  9 10]\n"
     ]
    }
   ],
   "source": [
    "import numpy as np\n",
    "arr1 = np.arange(1, 11)\n",
    "print(arr1)"
   ]
  },
  {
   "cell_type": "markdown",
   "id": "5cb99393",
   "metadata": {},
   "source": [
    "o Create a 2D NumPy array of shape (3, 3) with integers from 1 \n",
    "to 9."
   ]
  },
  {
   "cell_type": "code",
   "execution_count": 3,
   "id": "73d971fc",
   "metadata": {},
   "outputs": [
    {
     "name": "stdout",
     "output_type": "stream",
     "text": [
      "[[1 2 3]\n",
      " [4 5 6]\n",
      " [7 8 9]]\n"
     ]
    }
   ],
   "source": [
    "arr2=np.arange(1,10).reshape(3,3)\n",
    "print(arr2)"
   ]
  },
  {
   "cell_type": "markdown",
   "id": "50c96c4c",
   "metadata": {},
   "source": [
    "o Create a 3D NumPy array with random floating-point numbers \n",
    "of shape (3, 5, 3). "
   ]
  },
  {
   "cell_type": "code",
   "execution_count": 4,
   "id": "6a462ffe",
   "metadata": {},
   "outputs": [
    {
     "name": "stdout",
     "output_type": "stream",
     "text": [
      "[[[0.40644866 0.72925357 0.13086222]\n",
      "  [0.43610836 0.4489669  0.42062756]\n",
      "  [0.60078116 0.28138582 0.45554995]\n",
      "  [0.88655946 0.62519283 0.74208311]\n",
      "  [0.99070395 0.67252121 0.40106316]]\n",
      "\n",
      " [[0.23829134 0.09564382 0.86420623]\n",
      "  [0.73929777 0.25607033 0.19019186]\n",
      "  [0.35791305 0.98630977 0.47292418]\n",
      "  [0.99421507 0.50141034 0.57573714]\n",
      "  [0.36652189 0.67882764 0.12170359]]\n",
      "\n",
      " [[0.04082793 0.74844669 0.48899164]\n",
      "  [0.76953006 0.35296899 0.69293158]\n",
      "  [0.3559894  0.21539591 0.43675339]\n",
      "  [0.77909476 0.50236439 0.49596226]\n",
      "  [0.42472381 0.39903834 0.69724581]]]\n"
     ]
    }
   ],
   "source": [
    "arr3=np.random.rand(3,5,3)\n",
    "print(arr3)"
   ]
  },
  {
   "cell_type": "markdown",
   "id": "71c8bdcd",
   "metadata": {},
   "source": [
    "2. Display the shape, size, and datatype of each array. "
   ]
  },
  {
   "cell_type": "code",
   "execution_count": 5,
   "id": "7cf8bcdf",
   "metadata": {},
   "outputs": [
    {
     "name": "stdout",
     "output_type": "stream",
     "text": [
      "\n",
      "1D Array:\n",
      "[ 1  2  3  4  5  6  7  8  9 10]\n",
      "Shape: (10,)\n",
      "Size: 10\n",
      "Datatype: int64\n",
      "\n",
      "2D Array:\n",
      "[[1 2 3]\n",
      " [4 5 6]\n",
      " [7 8 9]]\n",
      "Shape: (3, 3)\n",
      "Size: 9\n",
      "Datatype: int64\n",
      "\n",
      "3D Array:\n",
      "[[[0.40644866 0.72925357 0.13086222]\n",
      "  [0.43610836 0.4489669  0.42062756]\n",
      "  [0.60078116 0.28138582 0.45554995]\n",
      "  [0.88655946 0.62519283 0.74208311]\n",
      "  [0.99070395 0.67252121 0.40106316]]\n",
      "\n",
      " [[0.23829134 0.09564382 0.86420623]\n",
      "  [0.73929777 0.25607033 0.19019186]\n",
      "  [0.35791305 0.98630977 0.47292418]\n",
      "  [0.99421507 0.50141034 0.57573714]\n",
      "  [0.36652189 0.67882764 0.12170359]]\n",
      "\n",
      " [[0.04082793 0.74844669 0.48899164]\n",
      "  [0.76953006 0.35296899 0.69293158]\n",
      "  [0.3559894  0.21539591 0.43675339]\n",
      "  [0.77909476 0.50236439 0.49596226]\n",
      "  [0.42472381 0.39903834 0.69724581]]]\n",
      "Shape: (3, 5, 3)\n",
      "Size: 45\n",
      "Datatype: float64\n"
     ]
    }
   ],
   "source": [
    "def display_info(name, array):\n",
    "    print(f\"\\n{name}:\")\n",
    "    print(array)\n",
    "    print(f\"Shape: {array.shape}\")\n",
    "    print(f\"Size: {array.size}\")\n",
    "    print(f\"Datatype: {array.dtype}\")\n",
    "\n",
    "display_info(\"1D Array\", arr1)\n",
    "display_info(\"2D Array\", arr2)\n",
    "display_info(\"3D Array\", arr3)"
   ]
  },
  {
   "cell_type": "markdown",
   "id": "d3ba0873",
   "metadata": {},
   "source": [
    "### TASK-2: Array Indexing and Slicing \n",
    "1. Create a NumPy array from the following list:  \n",
    "data = [10, 20, 30, 40, 50, 60, 70, 80, 90]"
   ]
  },
  {
   "cell_type": "code",
   "execution_count": 6,
   "id": "5f89801b",
   "metadata": {},
   "outputs": [
    {
     "name": "stdout",
     "output_type": "stream",
     "text": [
      "[10 20 30 40 50 60 70 80 90]\n"
     ]
    }
   ],
   "source": [
    "data = [10, 20, 30, 40, 50, 60, 70, 80, 90]\n",
    "arr = np.array(data)\n",
    "print(arr)"
   ]
  },
  {
   "cell_type": "markdown",
   "id": "a09b7d8d",
   "metadata": {},
   "source": [
    "2. Write a Python program to:  \n",
    "o Retrieve the first three elements of the array. \n",
    "o Retrieve every alternate element of the array. \n",
    "o Reverse the array. \n",
    "3. Perform the above operations and display the results. "
   ]
  },
  {
   "cell_type": "code",
   "execution_count": 7,
   "id": "dd0399f0",
   "metadata": {},
   "outputs": [
    {
     "name": "stdout",
     "output_type": "stream",
     "text": [
      "[10 20 30]\n"
     ]
    }
   ],
   "source": [
    "print(arr[:3])"
   ]
  },
  {
   "cell_type": "code",
   "execution_count": 8,
   "id": "18412130",
   "metadata": {},
   "outputs": [
    {
     "name": "stdout",
     "output_type": "stream",
     "text": [
      "[10 30 50 70 90]\n"
     ]
    }
   ],
   "source": [
    "print(arr[::2])"
   ]
  },
  {
   "cell_type": "code",
   "execution_count": 9,
   "id": "fe67fae0",
   "metadata": {},
   "outputs": [
    {
     "name": "stdout",
     "output_type": "stream",
     "text": [
      "[90 80 70 60 50 40 30 20 10]\n"
     ]
    }
   ],
   "source": [
    "print(arr[::-1])"
   ]
  },
  {
   "cell_type": "markdown",
   "id": "fc483905",
   "metadata": {},
   "source": [
    "### TASK-3: Mathematical Operations \n",
    "1. Create two NumPy arrays, A and B, each with 5 random integers \n",
    "between 1 and 20."
   ]
  },
  {
   "cell_type": "code",
   "execution_count": 10,
   "id": "9c922cd2",
   "metadata": {},
   "outputs": [
    {
     "name": "stdout",
     "output_type": "stream",
     "text": [
      "[ 9  4  5  6 13]\n",
      "[13 18  5  1 12]\n"
     ]
    }
   ],
   "source": [
    "A=np.random.randint(1,21,5)\n",
    "B=np.random.randint(1,21,5)\n",
    "print(A)\n",
    "print(B)"
   ]
  },
  {
   "cell_type": "markdown",
   "id": "6a1a15ab",
   "metadata": {},
   "source": [
    "2. Write a Python program to:  \n",
    "o Add, subtract, multiply, and divide the two arrays element\n",
    "wise. \n",
    "o Compute the dot product of the arrays. \n",
    "o Find the mean, median, standard deviation, and variance of \n",
    "array A. \n",
    "o Identify the maximum and minimum values in array B and \n",
    "their indices."
   ]
  },
  {
   "cell_type": "code",
   "execution_count": 15,
   "id": "6bbaaa38",
   "metadata": {},
   "outputs": [
    {
     "name": "stdout",
     "output_type": "stream",
     "text": [
      "\n",
      "Addition: [22 22 10  7 25]\n",
      "Subtraction: [ -4 -14   0   5   1]\n",
      "Multiplication: [117  72  25   6 156]\n",
      "Division: [0.69230769 0.22222222 1.         6.         1.08333333]\n"
     ]
    }
   ],
   "source": [
    "print(\"\\nAddition:\", A + B)\n",
    "print(\"Subtraction:\", A - B)\n",
    "print(\"Multiplication:\", A * B)\n",
    "print(\"Division:\", A / B)"
   ]
  },
  {
   "cell_type": "code",
   "execution_count": 12,
   "id": "28f49810",
   "metadata": {},
   "outputs": [
    {
     "name": "stdout",
     "output_type": "stream",
     "text": [
      "376\n"
     ]
    }
   ],
   "source": [
    "Dot_Product=np.dot(A,B)\n",
    "print(Dot_Product)"
   ]
  },
  {
   "cell_type": "code",
   "execution_count": 13,
   "id": "ce9de65b",
   "metadata": {},
   "outputs": [
    {
     "name": "stdout",
     "output_type": "stream",
     "text": [
      "7.4\n",
      "6.0\n",
      "3.2619012860600183\n",
      "10.64\n"
     ]
    }
   ],
   "source": [
    "print(np.mean(A))\n",
    "print(np.median(A))\n",
    "print(np.std(A))\n",
    "print(np.var(A))"
   ]
  },
  {
   "cell_type": "code",
   "execution_count": 16,
   "id": "8a5e56d9",
   "metadata": {},
   "outputs": [
    {
     "name": "stdout",
     "output_type": "stream",
     "text": [
      "18 1\n",
      "1 3\n"
     ]
    }
   ],
   "source": [
    "print(np.max(B),np.argmax(B))\n",
    "print(np.min(B),np.argmin(B))"
   ]
  },
  {
   "cell_type": "markdown",
   "id": "b9d80f57",
   "metadata": {},
   "source": [
    "### Task 4: Reshaping and Transposing \n",
    "1. Create a 1D NumPy array of 12 integers ranging from 1 to 12. "
   ]
  },
  {
   "cell_type": "code",
   "execution_count": 17,
   "id": "da135e5b",
   "metadata": {},
   "outputs": [
    {
     "name": "stdout",
     "output_type": "stream",
     "text": [
      "[ 1  2  3  4  5  6  7  8  9 10 11 12]\n"
     ]
    }
   ],
   "source": [
    "arr=np.arange(1,13)\n",
    "print(arr)"
   ]
  },
  {
   "cell_type": "markdown",
   "id": "9ed67930",
   "metadata": {},
   "source": [
    "2. Write a Python program to:  \n",
    "o Reshape the array into a 2D array of shape (4, 3). \n",
    "o Reshape the array into a 3D array of shape (2, 2, 3). \n",
    "o Transpose the reshaped 2D array and display its shape."
   ]
  },
  {
   "cell_type": "code",
   "execution_count": 18,
   "id": "0fec59ad",
   "metadata": {},
   "outputs": [
    {
     "name": "stdout",
     "output_type": "stream",
     "text": [
      "[[ 1  2  3]\n",
      " [ 4  5  6]\n",
      " [ 7  8  9]\n",
      " [10 11 12]]\n"
     ]
    }
   ],
   "source": [
    "arr2=np.arange(1,13).reshape(4,3)\n",
    "print(arr2)"
   ]
  },
  {
   "cell_type": "code",
   "execution_count": 19,
   "id": "c05de1bb",
   "metadata": {},
   "outputs": [
    {
     "name": "stdout",
     "output_type": "stream",
     "text": [
      "[[[ 1  2  3]\n",
      "  [ 4  5  6]]\n",
      "\n",
      " [[ 7  8  9]\n",
      "  [10 11 12]]]\n"
     ]
    }
   ],
   "source": [
    "arr3=np.arange(1,13).reshape(2,2,3)\n",
    "print(arr3)"
   ]
  },
  {
   "cell_type": "code",
   "execution_count": 20,
   "id": "38f0622d",
   "metadata": {},
   "outputs": [
    {
     "name": "stdout",
     "output_type": "stream",
     "text": [
      "[[ 1  4  7 10]\n",
      " [ 2  5  8 11]\n",
      " [ 3  6  9 12]]\n",
      "(3, 4)\n"
     ]
    }
   ],
   "source": [
    "arr2=np.arange(1,13).reshape(4,3).T\n",
    "print(arr2)\n",
    "\n",
    "print(arr2.shape)"
   ]
  },
  {
   "cell_type": "markdown",
   "id": "ae5ae2ca",
   "metadata": {},
   "source": [
    "### Task 5: Boolean Masking and Filtering \n",
    "1. Create a NumPy array with 15 random integers between 10 and 50. "
   ]
  },
  {
   "cell_type": "code",
   "execution_count": 21,
   "id": "c3dabc38",
   "metadata": {},
   "outputs": [
    {
     "name": "stdout",
     "output_type": "stream",
     "text": [
      "[35 25 31 35 19 16 19 36 40 40 26 24 36 27 45]\n"
     ]
    }
   ],
   "source": [
    "arr=np.random.randint(10,51,15)\n",
    "print(arr)"
   ]
  },
  {
   "cell_type": "markdown",
   "id": "00688dea",
   "metadata": {},
   "source": [
    "2. Write a Python program to:  \n",
    "o Find all elements greater than 25. \n",
    "o Replace all elements less than 30 with 0. \n",
    "o Count the number of elements divisible by 5."
   ]
  },
  {
   "cell_type": "code",
   "execution_count": 22,
   "id": "8486d928",
   "metadata": {},
   "outputs": [
    {
     "name": "stdout",
     "output_type": "stream",
     "text": [
      "[35 31 35 36 40 40 26 36 27 45]\n"
     ]
    }
   ],
   "source": [
    "print(arr[arr>25])"
   ]
  },
  {
   "cell_type": "code",
   "execution_count": 23,
   "id": "2221c562",
   "metadata": {},
   "outputs": [
    {
     "name": "stdout",
     "output_type": "stream",
     "text": [
      "[35  0 31 35  0  0  0 36 40 40  0  0 36  0 45]\n"
     ]
    }
   ],
   "source": [
    "arr2=arr.copy()\n",
    "arr2[arr2<30]=0\n",
    "print(arr2)"
   ]
  },
  {
   "cell_type": "code",
   "execution_count": 24,
   "id": "69dc22aa",
   "metadata": {},
   "outputs": [
    {
     "name": "stdout",
     "output_type": "stream",
     "text": [
      "[35 25 35 40 40 45]\n",
      "6\n"
     ]
    }
   ],
   "source": [
    "count=arr[(arr%5==0)&(arr!=0)]\n",
    "print(count)\n",
    "print(count.size)"
   ]
  },
  {
   "cell_type": "markdown",
   "id": "5fde7596",
   "metadata": {},
   "source": [
    "### Task 6: Working with Built-in Functions \n",
    "1. Use NumPy's built-in functions to:  \n",
    "o Create an array of 10 equally spaced values between 0 and 1. \n",
    "o Create an identity matrix of size 4x4. \n",
    "o Generate a 1D array of 20 random integers between 1 and 100, \n",
    "sort it, and find the 5 largest elements. "
   ]
  },
  {
   "cell_type": "code",
   "execution_count": 25,
   "id": "b4fdd592",
   "metadata": {},
   "outputs": [
    {
     "name": "stdout",
     "output_type": "stream",
     "text": [
      "[0.         0.11111111 0.22222222 0.33333333 0.44444444 0.55555556\n",
      " 0.66666667 0.77777778 0.88888889 1.        ]\n"
     ]
    }
   ],
   "source": [
    "arr=np.linspace(0,1,10)\n",
    "print(arr)"
   ]
  },
  {
   "cell_type": "code",
   "execution_count": 26,
   "id": "0ed78699",
   "metadata": {},
   "outputs": [
    {
     "name": "stdout",
     "output_type": "stream",
     "text": [
      "[[1. 0. 0. 0.]\n",
      " [0. 1. 0. 0.]\n",
      " [0. 0. 1. 0.]\n",
      " [0. 0. 0. 1.]]\n"
     ]
    }
   ],
   "source": [
    "arr2=np.eye(4)\n",
    "print(arr2)"
   ]
  },
  {
   "cell_type": "code",
   "execution_count": 27,
   "id": "030643c4",
   "metadata": {},
   "outputs": [
    {
     "name": "stdout",
     "output_type": "stream",
     "text": [
      "[ 36   1   8  12  53  16  47  34  14  20  68  74  53   6  89   4  42  95\n",
      " 100  96]\n"
     ]
    }
   ],
   "source": [
    "arr3=np.random.randint(1,101,20)\n",
    "print(arr3)"
   ]
  },
  {
   "cell_type": "code",
   "execution_count": 28,
   "id": "b81123a8",
   "metadata": {},
   "outputs": [
    {
     "name": "stdout",
     "output_type": "stream",
     "text": [
      "[  1   4   6   8  12  14  16  20  34  36  42  47  53  53  68  74  89  95\n",
      "  96 100]\n"
     ]
    }
   ],
   "source": [
    "sorted=np.sort(arr3)\n",
    "print(sorted)"
   ]
  },
  {
   "cell_type": "code",
   "execution_count": 30,
   "id": "ac4c4643",
   "metadata": {},
   "outputs": [
    {
     "name": "stdout",
     "output_type": "stream",
     "text": [
      "[ 74  89  95  96 100]\n"
     ]
    }
   ],
   "source": [
    "print(sorted[-5:])"
   ]
  },
  {
   "cell_type": "markdown",
   "id": "da1167c9",
   "metadata": {},
   "source": [
    "### Task 7: Generic \n",
    "1. Create a Python program that:  \n",
    "o Generates two large random arrays of size (100, 100). \n",
    "o Performs matrix multiplication on the two arrays. \n",
    "o Finds the determinant and inverse of the resulting matrix (if \n",
    "possible). \n",
    "o Measures the time taken to complete these operations. \n"
   ]
  },
  {
   "cell_type": "code",
   "execution_count": 2,
   "id": "88fe6057",
   "metadata": {},
   "outputs": [
    {
     "name": "stdout",
     "output_type": "stream",
     "text": [
      "Requirement already satisfied: numpy in c:\\users\\hp\\appdata\\local\\programs\\python\\python312\\lib\\site-packages (2.3.1)\n",
      "Note: you may need to restart the kernel to use updated packages.\n"
     ]
    },
    {
     "name": "stderr",
     "output_type": "stream",
     "text": [
      "\n",
      "[notice] A new release of pip is available: 24.0 -> 25.1.1\n",
      "[notice] To update, run: python.exe -m pip install --upgrade pip\n"
     ]
    },
    {
     "name": "stdout",
     "output_type": "stream",
     "text": [
      "Requirement already satisfied: matplotlib in c:\\users\\hp\\appdata\\local\\programs\\python\\python312\\lib\\site-packages (3.10.3)\n",
      "Requirement already satisfied: contourpy>=1.0.1 in c:\\users\\hp\\appdata\\local\\programs\\python\\python312\\lib\\site-packages (from matplotlib) (1.3.2)\n",
      "Requirement already satisfied: cycler>=0.10 in c:\\users\\hp\\appdata\\local\\programs\\python\\python312\\lib\\site-packages (from matplotlib) (0.12.1)\n",
      "Requirement already satisfied: fonttools>=4.22.0 in c:\\users\\hp\\appdata\\local\\programs\\python\\python312\\lib\\site-packages (from matplotlib) (4.58.5)\n",
      "Requirement already satisfied: kiwisolver>=1.3.1 in c:\\users\\hp\\appdata\\local\\programs\\python\\python312\\lib\\site-packages (from matplotlib) (1.4.8)\n",
      "Requirement already satisfied: numpy>=1.23 in c:\\users\\hp\\appdata\\local\\programs\\python\\python312\\lib\\site-packages (from matplotlib) (2.3.1)\n",
      "Requirement already satisfied: packaging>=20.0 in c:\\users\\hp\\appdata\\roaming\\python\\python312\\site-packages (from matplotlib) (25.0)\n",
      "Requirement already satisfied: pillow>=8 in c:\\users\\hp\\appdata\\local\\programs\\python\\python312\\lib\\site-packages (from matplotlib) (11.3.0)\n",
      "Requirement already satisfied: pyparsing>=2.3.1 in c:\\users\\hp\\appdata\\local\\programs\\python\\python312\\lib\\site-packages (from matplotlib) (3.2.3)\n",
      "Requirement already satisfied: python-dateutil>=2.7 in c:\\users\\hp\\appdata\\roaming\\python\\python312\\site-packages (from matplotlib) (2.9.0.post0)\n",
      "Requirement already satisfied: six>=1.5 in c:\\users\\hp\\appdata\\roaming\\python\\python312\\site-packages (from python-dateutil>=2.7->matplotlib) (1.17.0)\n",
      "Note: you may need to restart the kernel to use updated packages.\n"
     ]
    },
    {
     "name": "stderr",
     "output_type": "stream",
     "text": [
      "\n",
      "[notice] A new release of pip is available: 24.0 -> 25.1.1\n",
      "[notice] To update, run: python.exe -m pip install --upgrade pip\n"
     ]
    },
    {
     "name": "stdout",
     "output_type": "stream",
     "text": [
      "Requirement already satisfied: seaborn in c:\\users\\hp\\appdata\\local\\programs\\python\\python312\\lib\\site-packages (0.13.2)\n",
      "Requirement already satisfied: numpy!=1.24.0,>=1.20 in c:\\users\\hp\\appdata\\local\\programs\\python\\python312\\lib\\site-packages (from seaborn) (2.3.1)\n",
      "Requirement already satisfied: pandas>=1.2 in c:\\users\\hp\\appdata\\local\\programs\\python\\python312\\lib\\site-packages (from seaborn) (2.3.1)\n",
      "Requirement already satisfied: matplotlib!=3.6.1,>=3.4 in c:\\users\\hp\\appdata\\local\\programs\\python\\python312\\lib\\site-packages (from seaborn) (3.10.3)\n",
      "Requirement already satisfied: contourpy>=1.0.1 in c:\\users\\hp\\appdata\\local\\programs\\python\\python312\\lib\\site-packages (from matplotlib!=3.6.1,>=3.4->seaborn) (1.3.2)\n",
      "Requirement already satisfied: cycler>=0.10 in c:\\users\\hp\\appdata\\local\\programs\\python\\python312\\lib\\site-packages (from matplotlib!=3.6.1,>=3.4->seaborn) (0.12.1)\n",
      "Requirement already satisfied: fonttools>=4.22.0 in c:\\users\\hp\\appdata\\local\\programs\\python\\python312\\lib\\site-packages (from matplotlib!=3.6.1,>=3.4->seaborn) (4.58.5)\n",
      "Requirement already satisfied: kiwisolver>=1.3.1 in c:\\users\\hp\\appdata\\local\\programs\\python\\python312\\lib\\site-packages (from matplotlib!=3.6.1,>=3.4->seaborn) (1.4.8)\n",
      "Requirement already satisfied: packaging>=20.0 in c:\\users\\hp\\appdata\\roaming\\python\\python312\\site-packages (from matplotlib!=3.6.1,>=3.4->seaborn) (25.0)\n",
      "Requirement already satisfied: pillow>=8 in c:\\users\\hp\\appdata\\local\\programs\\python\\python312\\lib\\site-packages (from matplotlib!=3.6.1,>=3.4->seaborn) (11.3.0)\n",
      "Requirement already satisfied: pyparsing>=2.3.1 in c:\\users\\hp\\appdata\\local\\programs\\python\\python312\\lib\\site-packages (from matplotlib!=3.6.1,>=3.4->seaborn) (3.2.3)\n",
      "Requirement already satisfied: python-dateutil>=2.7 in c:\\users\\hp\\appdata\\roaming\\python\\python312\\site-packages (from matplotlib!=3.6.1,>=3.4->seaborn) (2.9.0.post0)\n",
      "Requirement already satisfied: pytz>=2020.1 in c:\\users\\hp\\appdata\\local\\programs\\python\\python312\\lib\\site-packages (from pandas>=1.2->seaborn) (2025.2)\n",
      "Requirement already satisfied: tzdata>=2022.7 in c:\\users\\hp\\appdata\\local\\programs\\python\\python312\\lib\\site-packages (from pandas>=1.2->seaborn) (2025.2)\n",
      "Requirement already satisfied: six>=1.5 in c:\\users\\hp\\appdata\\roaming\\python\\python312\\site-packages (from python-dateutil>=2.7->matplotlib!=3.6.1,>=3.4->seaborn) (1.17.0)\n",
      "Note: you may need to restart the kernel to use updated packages.\n",
      "The product of matrix is:  [[22.77189566 26.34234854 22.22145095 ... 26.77878712 24.98561622\n",
      "  26.43301028]\n",
      " [23.46157397 27.16646712 25.56871726 ... 24.38063334 26.63998475\n",
      "  28.13179155]\n",
      " [23.26424276 28.30122148 25.81981434 ... 26.04019589 26.98587377\n",
      "  26.51632307]\n",
      " ...\n",
      " [21.04105367 25.05958497 20.57753586 ... 22.56885532 23.69292422\n",
      "  25.27384291]\n",
      " [22.6686359  26.54266486 25.27051188 ... 26.9811806  26.2754029\n",
      "  27.18354353]\n",
      " [22.25088198 24.70908876 21.25965751 ... 21.96834464 23.34667609\n",
      "  24.06075391]]\n",
      "Matrix Multiplication is completed in 0.0000 seconds.\n",
      "\n",
      "The Determinant of matrix is:  -1.152753538176725e+51\n",
      "Time taken to calculate determinant is 0.0000 seconds\n",
      "\n"
     ]
    },
    {
     "name": "stderr",
     "output_type": "stream",
     "text": [
      "\n",
      "[notice] A new release of pip is available: 24.0 -> 25.1.1\n",
      "[notice] To update, run: python.exe -m pip install --upgrade pip\n"
     ]
    },
    {
     "name": "stdout",
     "output_type": "stream",
     "text": [
      "The inverse of matrix is:  [[-0.60546689 -1.25319944  0.85320985 ...  0.86757724 -1.74347327\n",
      "  -2.12937328]\n",
      " [ 0.05089263 -0.06737326  0.11854479 ... -0.06669096 -0.16117222\n",
      "  -0.083459  ]\n",
      " [-0.5271053  -3.31277728  2.08892426 ...  2.95543849 -1.46633651\n",
      "  -4.58794233]\n",
      " ...\n",
      " [ 0.48685241  1.17574066  0.20138814 ... -1.15697506 -0.71627895\n",
      "   1.63604674]\n",
      " [ 0.30353731  1.18429875 -0.11095575 ... -0.77879509  0.15422097\n",
      "   1.53932709]\n",
      " [ 1.18194165  4.09045766 -1.83591395 ... -3.98818064  1.07759237\n",
      "   6.04694312]]\n",
      "Time taken to calculate Inverse is 0.2127 seconds\n",
      "\n"
     ]
    }
   ],
   "source": [
    "\n",
    "%pip install numpy\n",
    "%pip install matplotlib\n",
    "%pip install seaborn\n",
    "\n",
    "import numpy as np\n",
    "import seaborn as sns\n",
    "import matplotlib.pyplot as plt\n",
    "import time\n",
    "\n",
    "mat1 = np.random.rand(100, 100)\n",
    "mat2 = np.random.rand(100, 100)\n",
    "\n",
    "t1 = time.time()\n",
    "product_matrix = np.dot(mat1, mat2)\n",
    "mul_time = time.time() - t1\n",
    "print(\"The product of matrix is: \", product_matrix)\n",
    "print(f\"Matrix Multiplication is completed in {mul_time:.4f} seconds.\")\n",
    "print()\n",
    "\n",
    "t2 = time.time()\n",
    "det_val = np.linalg.det(product_matrix)\n",
    "det_time = time.time() - t2\n",
    "print(\"The Determinant of matrix is: \", det_val)\n",
    "print(f\"Time taken to calculate determinant is {det_time:.4f} seconds\")\n",
    "print()\n",
    "\n",
    "if np.isclose(det_val, 0):\n",
    "    print(\"The Matrix is singular and cannot be inverted.\")\n",
    "else:\n",
    "    t3 = time.time()\n",
    "    inv_matrix = np.linalg.inv(product_matrix)\n",
    "    inv_time = time.time() - t3\n",
    "    print(\"The inverse of matrix is: \", inv_matrix)\n",
    "    print(f\"Time taken to calculate Inverse is {inv_time:.4f} seconds\")\n",
    "    print()"
   ]
  },
  {
   "cell_type": "markdown",
   "id": "e86c907b",
   "metadata": {},
   "source": [
    "\n",
    "\n",
    "\n",
    "# PART-2:\n",
    "## Pandas Questions."
   ]
  },
  {
   "cell_type": "markdown",
   "id": "00c9bd03",
   "metadata": {},
   "source": [
    "### Task 1: Working with Series \n",
    "1. Create a Pandas Series from the following list:  \n",
    "data = [25, 30, 35, 40, 45] "
   ]
  },
  {
   "cell_type": "code",
   "execution_count": 3,
   "id": "35e8330c",
   "metadata": {},
   "outputs": [
    {
     "name": "stdout",
     "output_type": "stream",
     "text": [
      "Panda series with custom indices:\n",
      "A    25\n",
      "B    30\n",
      "C    35\n",
      "D    40\n",
      "E    45\n",
      "dtype: int64\n"
     ]
    }
   ],
   "source": [
    "import numpy as np\n",
    "import pandas as pd\n",
    "data = [25, 30, 35, 40, 45]\n",
    "series=pd.Series(data,index=['A', 'B', 'C', 'D', 'E'])\n",
    "print(\"Panda series with custom indices:\")\n",
    "print(series)"
   ]
  },
  {
   "cell_type": "markdown",
   "id": "3e45b69b",
   "metadata": {},
   "source": [
    "2. Write a Python program to:  \n",
    "o Assign custom indices ['A', 'B', 'C', 'D', 'E'] to the Series. \n",
    "o Display the first three elements of the Series. \n",
    "o Calculate the mean, median, and standard deviation of the \n",
    "Series."
   ]
  },
  {
   "cell_type": "code",
   "execution_count": 4,
   "id": "aae8f227",
   "metadata": {},
   "outputs": [
    {
     "data": {
      "text/plain": [
       "A    25\n",
       "B    30\n",
       "C    35\n",
       "dtype: int64"
      ]
     },
     "execution_count": 4,
     "metadata": {},
     "output_type": "execute_result"
    }
   ],
   "source": [
    "series.head(3)"
   ]
  },
  {
   "cell_type": "code",
   "execution_count": 5,
   "id": "acd29955",
   "metadata": {},
   "outputs": [
    {
     "name": "stdout",
     "output_type": "stream",
     "text": [
      "The mean is: 35.0\n",
      "The median is: 35.0\n",
      "The standard deviation is: 7.905694150420948\n"
     ]
    }
   ],
   "source": [
    "print(\"The mean is:\",series.mean())\n",
    "print(\"The median is:\",series.median())\n",
    "print(\"The standard deviation is:\",series.std())"
   ]
  },
  {
   "cell_type": "markdown",
   "id": "c2ea0c7d",
   "metadata": {},
   "source": [
    "### Task 2: Creating and Inspecting DataFrames \n",
    "1. Create a Pandas DataFrame with the following data: \n",
    "Name  Age Gender Marks \n",
    "Alice 20  Female 85 \n",
    "Bob   22  Male   78 \n",
    "Carol 19  Female 92 \n",
    "David 21  Male   74 \n",
    "Eve   20  Female 88"
   ]
  },
  {
   "cell_type": "code",
   "execution_count": 8,
   "id": "8dac1f4f",
   "metadata": {},
   "outputs": [
    {
     "name": "stdout",
     "output_type": "stream",
     "text": [
      "    Name  Age  Gender  Marks\n",
      "0  Alice   20  Female     85\n",
      "1    Bob   22    Male     78\n",
      "2  Carol   19  Female     92\n",
      "3  David   21    Male     74\n",
      "4    Eve   20  Female     88\n"
     ]
    }
   ],
   "source": [
    "import pandas as pd\n",
    "\n",
    "data = {\n",
    "    'Name': ['Alice', 'Bob', 'Carol', 'David', 'Eve'],\n",
    "    'Age': [20, 22, 19, 21, 20],\n",
    "    'Gender': ['Female', 'Male', 'Female', 'Male', 'Female'],\n",
    "    'Marks': [85, 78, 92, 74, 88]\n",
    "}\n",
    "\n",
    "df = pd.DataFrame(data)\n",
    "print(df)"
   ]
  },
  {
   "cell_type": "markdown",
   "id": "22c5f69e",
   "metadata": {},
   "source": [
    "2. Write a Python program to: \n",
    "o Display the first two rows of the DataFrame. \n",
    "o Display the column names, data types, and summary statistics. \n",
    "o Add a new column Passed that contains True if Marks >= 80 \n",
    "and False otherwise. "
   ]
  },
  {
   "cell_type": "code",
   "execution_count": 9,
   "id": "b6fc5e76",
   "metadata": {},
   "outputs": [
    {
     "name": "stdout",
     "output_type": "stream",
     "text": [
      "\n",
      "First two rows of the DataFrame:\n",
      "    Name  Age  Gender  Marks\n",
      "0  Alice   20  Female     85\n",
      "1    Bob   22    Male     78\n"
     ]
    }
   ],
   "source": [
    "print(\"\\nFirst two rows of the DataFrame:\")\n",
    "print(df.head(2))"
   ]
  },
  {
   "cell_type": "code",
   "execution_count": 10,
   "id": "ac188cf8",
   "metadata": {},
   "outputs": [
    {
     "name": "stdout",
     "output_type": "stream",
     "text": [
      "\n",
      "Column Names:\n",
      "['Name', 'Age', 'Gender', 'Marks']\n",
      "\n",
      "Data Types:\n",
      "Name      object\n",
      "Age        int64\n",
      "Gender    object\n",
      "Marks      int64\n",
      "dtype: object\n",
      "\n",
      "Summary Statistics:\n",
      "         Name        Age  Gender      Marks\n",
      "count       5   5.000000       5   5.000000\n",
      "unique      5        NaN       2        NaN\n",
      "top     Alice        NaN  Female        NaN\n",
      "freq        1        NaN       3        NaN\n",
      "mean      NaN  20.400000     NaN  83.400000\n",
      "std       NaN   1.140175     NaN   7.334848\n",
      "min       NaN  19.000000     NaN  74.000000\n",
      "25%       NaN  20.000000     NaN  78.000000\n",
      "50%       NaN  20.000000     NaN  85.000000\n",
      "75%       NaN  21.000000     NaN  88.000000\n",
      "max       NaN  22.000000     NaN  92.000000\n"
     ]
    }
   ],
   "source": [
    "print(\"\\nColumn Names:\")\n",
    "print(df.columns.tolist())\n",
    "\n",
    "print(\"\\nData Types:\")\n",
    "print(df.dtypes)\n",
    "\n",
    "print(\"\\nSummary Statistics:\")\n",
    "print(df.describe(include='all'))"
   ]
  },
  {
   "cell_type": "code",
   "execution_count": 11,
   "id": "ad6f6bea",
   "metadata": {},
   "outputs": [
    {
     "name": "stdout",
     "output_type": "stream",
     "text": [
      "\n",
      "DataFrame after adding 'Passed' column:\n",
      "    Name  Age  Gender  Marks  Passed\n",
      "0  Alice   20  Female     85    True\n",
      "1    Bob   22    Male     78   False\n",
      "2  Carol   19  Female     92    True\n",
      "3  David   21    Male     74   False\n",
      "4    Eve   20  Female     88    True\n"
     ]
    }
   ],
   "source": [
    "df['Passed'] = df['Marks'] >= 80\n",
    "print(\"\\nDataFrame after adding 'Passed' column:\")\n",
    "print(df)"
   ]
  },
  {
   "cell_type": "markdown",
   "id": "2f0faa1b",
   "metadata": {},
   "source": [
    "### Task 3: Data Selection and Filtering \n",
    "1. Using the DataFrame from Task 2, write a Python program to:  \n",
    "o Select and display the Name and Marks columns. \n",
    "o Filter and display records where Marks > 80. \n",
    "o Display the record of the student with the highest marks. \n"
   ]
  },
  {
   "cell_type": "code",
   "execution_count": 12,
   "id": "e65c214b",
   "metadata": {},
   "outputs": [
    {
     "data": {
      "text/html": [
       "<div>\n",
       "<style scoped>\n",
       "    .dataframe tbody tr th:only-of-type {\n",
       "        vertical-align: middle;\n",
       "    }\n",
       "\n",
       "    .dataframe tbody tr th {\n",
       "        vertical-align: top;\n",
       "    }\n",
       "\n",
       "    .dataframe thead th {\n",
       "        text-align: right;\n",
       "    }\n",
       "</style>\n",
       "<table border=\"1\" class=\"dataframe\">\n",
       "  <thead>\n",
       "    <tr style=\"text-align: right;\">\n",
       "      <th></th>\n",
       "      <th>Name</th>\n",
       "      <th>Age</th>\n",
       "      <th>Gender</th>\n",
       "      <th>Marks</th>\n",
       "    </tr>\n",
       "  </thead>\n",
       "  <tbody>\n",
       "    <tr>\n",
       "      <th>0</th>\n",
       "      <td>Alice</td>\n",
       "      <td>20</td>\n",
       "      <td>Female</td>\n",
       "      <td>85</td>\n",
       "    </tr>\n",
       "    <tr>\n",
       "      <th>1</th>\n",
       "      <td>Bob</td>\n",
       "      <td>22</td>\n",
       "      <td>Male</td>\n",
       "      <td>78</td>\n",
       "    </tr>\n",
       "    <tr>\n",
       "      <th>2</th>\n",
       "      <td>Carol</td>\n",
       "      <td>19</td>\n",
       "      <td>Female</td>\n",
       "      <td>92</td>\n",
       "    </tr>\n",
       "    <tr>\n",
       "      <th>3</th>\n",
       "      <td>David</td>\n",
       "      <td>21</td>\n",
       "      <td>Male</td>\n",
       "      <td>74</td>\n",
       "    </tr>\n",
       "    <tr>\n",
       "      <th>4</th>\n",
       "      <td>Eve</td>\n",
       "      <td>20</td>\n",
       "      <td>Female</td>\n",
       "      <td>88</td>\n",
       "    </tr>\n",
       "  </tbody>\n",
       "</table>\n",
       "</div>"
      ],
      "text/plain": [
       "    Name  Age  Gender  Marks\n",
       "0  Alice   20  Female     85\n",
       "1    Bob   22    Male     78\n",
       "2  Carol   19  Female     92\n",
       "3  David   21    Male     74\n",
       "4    Eve   20  Female     88"
      ]
     },
     "execution_count": 12,
     "metadata": {},
     "output_type": "execute_result"
    }
   ],
   "source": [
    "df=pd.DataFrame(data)\n",
    "df"
   ]
  },
  {
   "cell_type": "code",
   "execution_count": 13,
   "id": "cfa6a5ae",
   "metadata": {},
   "outputs": [
    {
     "name": "stdout",
     "output_type": "stream",
     "text": [
      "The name and marks columns are:\n"
     ]
    },
    {
     "data": {
      "text/html": [
       "<div>\n",
       "<style scoped>\n",
       "    .dataframe tbody tr th:only-of-type {\n",
       "        vertical-align: middle;\n",
       "    }\n",
       "\n",
       "    .dataframe tbody tr th {\n",
       "        vertical-align: top;\n",
       "    }\n",
       "\n",
       "    .dataframe thead th {\n",
       "        text-align: right;\n",
       "    }\n",
       "</style>\n",
       "<table border=\"1\" class=\"dataframe\">\n",
       "  <thead>\n",
       "    <tr style=\"text-align: right;\">\n",
       "      <th></th>\n",
       "      <th>Name</th>\n",
       "      <th>Marks</th>\n",
       "    </tr>\n",
       "  </thead>\n",
       "  <tbody>\n",
       "    <tr>\n",
       "      <th>0</th>\n",
       "      <td>Alice</td>\n",
       "      <td>85</td>\n",
       "    </tr>\n",
       "    <tr>\n",
       "      <th>1</th>\n",
       "      <td>Bob</td>\n",
       "      <td>78</td>\n",
       "    </tr>\n",
       "    <tr>\n",
       "      <th>2</th>\n",
       "      <td>Carol</td>\n",
       "      <td>92</td>\n",
       "    </tr>\n",
       "    <tr>\n",
       "      <th>3</th>\n",
       "      <td>David</td>\n",
       "      <td>74</td>\n",
       "    </tr>\n",
       "    <tr>\n",
       "      <th>4</th>\n",
       "      <td>Eve</td>\n",
       "      <td>88</td>\n",
       "    </tr>\n",
       "  </tbody>\n",
       "</table>\n",
       "</div>"
      ],
      "text/plain": [
       "    Name  Marks\n",
       "0  Alice     85\n",
       "1    Bob     78\n",
       "2  Carol     92\n",
       "3  David     74\n",
       "4    Eve     88"
      ]
     },
     "execution_count": 13,
     "metadata": {},
     "output_type": "execute_result"
    }
   ],
   "source": [
    "new_df=pd.DataFrame(data,columns=['Name','Marks'])\n",
    "print(\"The name and marks columns are:\")\n",
    "new_df"
   ]
  },
  {
   "cell_type": "code",
   "execution_count": 14,
   "id": "99a9692f",
   "metadata": {},
   "outputs": [
    {
     "name": "stdout",
     "output_type": "stream",
     "text": [
      "Records where marks greater than 80 are:\n"
     ]
    },
    {
     "data": {
      "text/html": [
       "<div>\n",
       "<style scoped>\n",
       "    .dataframe tbody tr th:only-of-type {\n",
       "        vertical-align: middle;\n",
       "    }\n",
       "\n",
       "    .dataframe tbody tr th {\n",
       "        vertical-align: top;\n",
       "    }\n",
       "\n",
       "    .dataframe thead th {\n",
       "        text-align: right;\n",
       "    }\n",
       "</style>\n",
       "<table border=\"1\" class=\"dataframe\">\n",
       "  <thead>\n",
       "    <tr style=\"text-align: right;\">\n",
       "      <th></th>\n",
       "      <th>Name</th>\n",
       "      <th>Age</th>\n",
       "      <th>Gender</th>\n",
       "      <th>Marks</th>\n",
       "    </tr>\n",
       "  </thead>\n",
       "  <tbody>\n",
       "    <tr>\n",
       "      <th>0</th>\n",
       "      <td>Alice</td>\n",
       "      <td>20</td>\n",
       "      <td>Female</td>\n",
       "      <td>85</td>\n",
       "    </tr>\n",
       "    <tr>\n",
       "      <th>2</th>\n",
       "      <td>Carol</td>\n",
       "      <td>19</td>\n",
       "      <td>Female</td>\n",
       "      <td>92</td>\n",
       "    </tr>\n",
       "    <tr>\n",
       "      <th>4</th>\n",
       "      <td>Eve</td>\n",
       "      <td>20</td>\n",
       "      <td>Female</td>\n",
       "      <td>88</td>\n",
       "    </tr>\n",
       "  </tbody>\n",
       "</table>\n",
       "</div>"
      ],
      "text/plain": [
       "    Name  Age  Gender  Marks\n",
       "0  Alice   20  Female     85\n",
       "2  Carol   19  Female     92\n",
       "4    Eve   20  Female     88"
      ]
     },
     "execution_count": 14,
     "metadata": {},
     "output_type": "execute_result"
    }
   ],
   "source": [
    "print(\"Records where marks greater than 80 are:\")\n",
    "df1=df[df['Marks']>80]\n",
    "df1"
   ]
  },
  {
   "cell_type": "code",
   "execution_count": 15,
   "id": "d7118d13",
   "metadata": {},
   "outputs": [
    {
     "name": "stdout",
     "output_type": "stream",
     "text": [
      "Student who scored maximum marks is:\n"
     ]
    },
    {
     "data": {
      "text/html": [
       "<div>\n",
       "<style scoped>\n",
       "    .dataframe tbody tr th:only-of-type {\n",
       "        vertical-align: middle;\n",
       "    }\n",
       "\n",
       "    .dataframe tbody tr th {\n",
       "        vertical-align: top;\n",
       "    }\n",
       "\n",
       "    .dataframe thead th {\n",
       "        text-align: right;\n",
       "    }\n",
       "</style>\n",
       "<table border=\"1\" class=\"dataframe\">\n",
       "  <thead>\n",
       "    <tr style=\"text-align: right;\">\n",
       "      <th></th>\n",
       "      <th>Name</th>\n",
       "      <th>Age</th>\n",
       "      <th>Gender</th>\n",
       "      <th>Marks</th>\n",
       "    </tr>\n",
       "  </thead>\n",
       "  <tbody>\n",
       "    <tr>\n",
       "      <th>2</th>\n",
       "      <td>Carol</td>\n",
       "      <td>19</td>\n",
       "      <td>Female</td>\n",
       "      <td>92</td>\n",
       "    </tr>\n",
       "  </tbody>\n",
       "</table>\n",
       "</div>"
      ],
      "text/plain": [
       "    Name  Age  Gender  Marks\n",
       "2  Carol   19  Female     92"
      ]
     },
     "execution_count": 15,
     "metadata": {},
     "output_type": "execute_result"
    }
   ],
   "source": [
    "print(\"Student who scored maximum marks is:\")\n",
    "max_marks=df['Marks'].max()\n",
    "student=df[df['Marks']==max_marks]\n",
    "student"
   ]
  },
  {
   "cell_type": "markdown",
   "id": "cc5fec80",
   "metadata": {},
   "source": [
    "### Task 4: Handling Missing Data \n",
    "1. Modify the DataFrame from Task 2 by introducing missing values:  \n",
    "2. df.loc[1, 'Marks'] = None \n",
    "3. df.loc[4, 'Age'] = None \n",
    "4. Write a Python program to:  \n",
    "o Identify missing values in the DataFrame. \n",
    "o Fill missing values in the Marks column with the column's \n",
    "mean. \n",
    "o Drop rows where the Age column has missing values."
   ]
  },
  {
   "cell_type": "code",
   "execution_count": 16,
   "id": "bee231bc",
   "metadata": {},
   "outputs": [
    {
     "name": "stdout",
     "output_type": "stream",
     "text": [
      "DataFrame with missing values:\n",
      "    Name   Age  Gender  Marks\n",
      "0  Alice  20.0  Female   85.0\n",
      "1    Bob  22.0    Male    NaN\n",
      "2  Carol  19.0  Female   92.0\n",
      "3  David  21.0    Male   74.0\n",
      "4    Eve   NaN  Female   88.0\n",
      "\n",
      "Missing value locations (True means missing):\n",
      "    Name    Age  Gender  Marks\n",
      "0  False  False   False  False\n",
      "1  False  False   False   True\n",
      "2  False  False   False  False\n",
      "3  False  False   False  False\n",
      "4  False   True   False  False\n",
      "\n",
      "DataFrame after filling missing 'Marks' with mean:\n",
      "    Name   Age  Gender  Marks\n",
      "0  Alice  20.0  Female  85.00\n",
      "1    Bob  22.0    Male  84.75\n",
      "2  Carol  19.0  Female  92.00\n",
      "3  David  21.0    Male  74.00\n",
      "4    Eve   NaN  Female  88.00\n",
      "\n",
      "Final DataFrame after dropping rows with missing 'Age':\n",
      "    Name   Age  Gender  Marks\n",
      "0  Alice  20.0  Female  85.00\n",
      "1    Bob  22.0    Male  84.75\n",
      "2  Carol  19.0  Female  92.00\n",
      "3  David  21.0    Male  74.00\n"
     ]
    },
    {
     "name": "stderr",
     "output_type": "stream",
     "text": [
      "C:\\Users\\HP\\AppData\\Local\\Temp\\ipykernel_12860\\1432733375.py:15: FutureWarning: A value is trying to be set on a copy of a DataFrame or Series through chained assignment using an inplace method.\n",
      "The behavior will change in pandas 3.0. This inplace method will never work because the intermediate object on which we are setting values always behaves as a copy.\n",
      "\n",
      "For example, when doing 'df[col].method(value, inplace=True)', try using 'df.method({col: value}, inplace=True)' or df[col] = df[col].method(value) instead, to perform the operation inplace on the original object.\n",
      "\n",
      "\n",
      "  df['Marks'].fillna(mean_marks, inplace=True)\n"
     ]
    }
   ],
   "source": [
    "df = pd.DataFrame(data)\n",
    "\n",
    "df.loc[1, 'Marks'] = None \n",
    "df.loc[4, 'Age'] = None   \n",
    "\n",
    "print(\"DataFrame with missing values:\")\n",
    "print(df)\n",
    "print()\n",
    "\n",
    "print(\"Missing value locations (True means missing):\")\n",
    "print(df.isnull())\n",
    "print()\n",
    "\n",
    "mean_marks = df['Marks'].mean()\n",
    "df['Marks'].fillna(mean_marks, inplace=True)\n",
    "\n",
    "print(\"DataFrame after filling missing 'Marks' with mean:\")\n",
    "print(df)\n",
    "print()\n",
    "\n",
    "df.dropna(subset=['Age'], inplace=True)\n",
    "print(\"Final DataFrame after dropping rows with missing 'Age':\")\n",
    "print(df)"
   ]
  },
  {
   "cell_type": "markdown",
   "id": "49ed7b55",
   "metadata": {},
   "source": [
    "### Task 5: Grouping and Aggregation \n",
    "1. Using the DataFrame from Task 2, write a Python program to:  \n",
    "o Group the data by Gender and calculate the mean age and \n",
    "marks for each gender. \n",
    "o Count the number of students in each gender group. "
   ]
  },
  {
   "cell_type": "code",
   "execution_count": 17,
   "id": "0dcaf491",
   "metadata": {},
   "outputs": [
    {
     "name": "stdout",
     "output_type": "stream",
     "text": [
      "              Age      Marks\n",
      "Gender                      \n",
      "Female  19.666667  88.333333\n",
      "Male    21.500000  76.000000\n"
     ]
    }
   ],
   "source": [
    "df = pd.DataFrame(data)\n",
    "\n",
    "group_means = df.groupby('Gender')[['Age', 'Marks']].mean()\n",
    "print(group_means)"
   ]
  },
  {
   "cell_type": "code",
   "execution_count": 18,
   "id": "3b66b5bc",
   "metadata": {},
   "outputs": [
    {
     "name": "stdout",
     "output_type": "stream",
     "text": [
      "Gender\n",
      "Female    3\n",
      "Male      2\n",
      "Name: count, dtype: int64\n"
     ]
    }
   ],
   "source": [
    "group_counts = df['Gender'].value_counts()\n",
    "print(group_counts)"
   ]
  },
  {
   "cell_type": "markdown",
   "id": "ccf22050",
   "metadata": {},
   "source": [
    "### Task 6: Reading and Writing Data \n",
    "1. Write a Python program to:  \n",
    "o Save the modified DataFrame from Task 4 to a CSV file named \n",
    "students_data.csv. \n",
    "o Read the CSV file into a new DataFrame. \n",
    "o Display the first five rows of the newly loaded DataFrame. "
   ]
  },
  {
   "cell_type": "code",
   "execution_count": 19,
   "id": "f6b6f261",
   "metadata": {},
   "outputs": [
    {
     "data": {
      "text/html": [
       "<div>\n",
       "<style scoped>\n",
       "    .dataframe tbody tr th:only-of-type {\n",
       "        vertical-align: middle;\n",
       "    }\n",
       "\n",
       "    .dataframe tbody tr th {\n",
       "        vertical-align: top;\n",
       "    }\n",
       "\n",
       "    .dataframe thead th {\n",
       "        text-align: right;\n",
       "    }\n",
       "</style>\n",
       "<table border=\"1\" class=\"dataframe\">\n",
       "  <thead>\n",
       "    <tr style=\"text-align: right;\">\n",
       "      <th></th>\n",
       "      <th>Name</th>\n",
       "      <th>Age</th>\n",
       "      <th>Gender</th>\n",
       "      <th>Marks</th>\n",
       "    </tr>\n",
       "  </thead>\n",
       "  <tbody>\n",
       "    <tr>\n",
       "      <th>0</th>\n",
       "      <td>Alice</td>\n",
       "      <td>20.0</td>\n",
       "      <td>Female</td>\n",
       "      <td>85.0</td>\n",
       "    </tr>\n",
       "    <tr>\n",
       "      <th>1</th>\n",
       "      <td>Bob</td>\n",
       "      <td>22.0</td>\n",
       "      <td>Male</td>\n",
       "      <td>NaN</td>\n",
       "    </tr>\n",
       "    <tr>\n",
       "      <th>2</th>\n",
       "      <td>Carol</td>\n",
       "      <td>19.0</td>\n",
       "      <td>Female</td>\n",
       "      <td>92.0</td>\n",
       "    </tr>\n",
       "    <tr>\n",
       "      <th>3</th>\n",
       "      <td>David</td>\n",
       "      <td>21.0</td>\n",
       "      <td>Male</td>\n",
       "      <td>74.0</td>\n",
       "    </tr>\n",
       "    <tr>\n",
       "      <th>4</th>\n",
       "      <td>Eve</td>\n",
       "      <td>NaN</td>\n",
       "      <td>Female</td>\n",
       "      <td>88.0</td>\n",
       "    </tr>\n",
       "  </tbody>\n",
       "</table>\n",
       "</div>"
      ],
      "text/plain": [
       "    Name   Age  Gender  Marks\n",
       "0  Alice  20.0  Female   85.0\n",
       "1    Bob  22.0    Male    NaN\n",
       "2  Carol  19.0  Female   92.0\n",
       "3  David  21.0    Male   74.0\n",
       "4    Eve   NaN  Female   88.0"
      ]
     },
     "execution_count": 19,
     "metadata": {},
     "output_type": "execute_result"
    }
   ],
   "source": [
    "data = {\n",
    "    'Name': ['Alice', 'Bob', 'Carol', 'David', 'Eve'],\n",
    "    'Age': [20, 22, 19, 21, None],\n",
    "    'Gender': ['Female', 'Male', 'Female', 'Male', 'Female'],\n",
    "    'Marks': [85, None, 92, 74, 88]\n",
    "}\n",
    "df = pd.DataFrame(data)\n",
    "df\n"
   ]
  },
  {
   "cell_type": "code",
   "execution_count": 20,
   "id": "d5bbb9be",
   "metadata": {},
   "outputs": [
    {
     "data": {
      "text/html": [
       "<div>\n",
       "<style scoped>\n",
       "    .dataframe tbody tr th:only-of-type {\n",
       "        vertical-align: middle;\n",
       "    }\n",
       "\n",
       "    .dataframe tbody tr th {\n",
       "        vertical-align: top;\n",
       "    }\n",
       "\n",
       "    .dataframe thead th {\n",
       "        text-align: right;\n",
       "    }\n",
       "</style>\n",
       "<table border=\"1\" class=\"dataframe\">\n",
       "  <thead>\n",
       "    <tr style=\"text-align: right;\">\n",
       "      <th></th>\n",
       "      <th>Name</th>\n",
       "      <th>Age</th>\n",
       "      <th>Gender</th>\n",
       "      <th>Marks</th>\n",
       "    </tr>\n",
       "  </thead>\n",
       "  <tbody>\n",
       "    <tr>\n",
       "      <th>0</th>\n",
       "      <td>Alice</td>\n",
       "      <td>20.0</td>\n",
       "      <td>Female</td>\n",
       "      <td>85.0</td>\n",
       "    </tr>\n",
       "    <tr>\n",
       "      <th>1</th>\n",
       "      <td>Bob</td>\n",
       "      <td>22.0</td>\n",
       "      <td>Male</td>\n",
       "      <td>NaN</td>\n",
       "    </tr>\n",
       "    <tr>\n",
       "      <th>2</th>\n",
       "      <td>Carol</td>\n",
       "      <td>19.0</td>\n",
       "      <td>Female</td>\n",
       "      <td>92.0</td>\n",
       "    </tr>\n",
       "    <tr>\n",
       "      <th>3</th>\n",
       "      <td>David</td>\n",
       "      <td>21.0</td>\n",
       "      <td>Male</td>\n",
       "      <td>74.0</td>\n",
       "    </tr>\n",
       "    <tr>\n",
       "      <th>4</th>\n",
       "      <td>Eve</td>\n",
       "      <td>NaN</td>\n",
       "      <td>Female</td>\n",
       "      <td>88.0</td>\n",
       "    </tr>\n",
       "  </tbody>\n",
       "</table>\n",
       "</div>"
      ],
      "text/plain": [
       "    Name   Age  Gender  Marks\n",
       "0  Alice  20.0  Female   85.0\n",
       "1    Bob  22.0    Male    NaN\n",
       "2  Carol  19.0  Female   92.0\n",
       "3  David  21.0    Male   74.0\n",
       "4    Eve   NaN  Female   88.0"
      ]
     },
     "execution_count": 20,
     "metadata": {},
     "output_type": "execute_result"
    }
   ],
   "source": [
    "df.to_csv(\"students_data.csv\", index=False)\n",
    "df_loaded = pd.read_csv(\"students_data.csv\")\n",
    "df_loaded"
   ]
  },
  {
   "cell_type": "code",
   "execution_count": 21,
   "id": "4fe7b292",
   "metadata": {},
   "outputs": [
    {
     "data": {
      "text/html": [
       "<div>\n",
       "<style scoped>\n",
       "    .dataframe tbody tr th:only-of-type {\n",
       "        vertical-align: middle;\n",
       "    }\n",
       "\n",
       "    .dataframe tbody tr th {\n",
       "        vertical-align: top;\n",
       "    }\n",
       "\n",
       "    .dataframe thead th {\n",
       "        text-align: right;\n",
       "    }\n",
       "</style>\n",
       "<table border=\"1\" class=\"dataframe\">\n",
       "  <thead>\n",
       "    <tr style=\"text-align: right;\">\n",
       "      <th></th>\n",
       "      <th>Name</th>\n",
       "      <th>Age</th>\n",
       "      <th>Gender</th>\n",
       "      <th>Marks</th>\n",
       "    </tr>\n",
       "  </thead>\n",
       "  <tbody>\n",
       "    <tr>\n",
       "      <th>0</th>\n",
       "      <td>Alice</td>\n",
       "      <td>20.0</td>\n",
       "      <td>Female</td>\n",
       "      <td>85.0</td>\n",
       "    </tr>\n",
       "    <tr>\n",
       "      <th>1</th>\n",
       "      <td>Bob</td>\n",
       "      <td>22.0</td>\n",
       "      <td>Male</td>\n",
       "      <td>NaN</td>\n",
       "    </tr>\n",
       "    <tr>\n",
       "      <th>2</th>\n",
       "      <td>Carol</td>\n",
       "      <td>19.0</td>\n",
       "      <td>Female</td>\n",
       "      <td>92.0</td>\n",
       "    </tr>\n",
       "    <tr>\n",
       "      <th>3</th>\n",
       "      <td>David</td>\n",
       "      <td>21.0</td>\n",
       "      <td>Male</td>\n",
       "      <td>74.0</td>\n",
       "    </tr>\n",
       "    <tr>\n",
       "      <th>4</th>\n",
       "      <td>Eve</td>\n",
       "      <td>NaN</td>\n",
       "      <td>Female</td>\n",
       "      <td>88.0</td>\n",
       "    </tr>\n",
       "  </tbody>\n",
       "</table>\n",
       "</div>"
      ],
      "text/plain": [
       "    Name   Age  Gender  Marks\n",
       "0  Alice  20.0  Female   85.0\n",
       "1    Bob  22.0    Male    NaN\n",
       "2  Carol  19.0  Female   92.0\n",
       "3  David  21.0    Male   74.0\n",
       "4    Eve   NaN  Female   88.0"
      ]
     },
     "execution_count": 21,
     "metadata": {},
     "output_type": "execute_result"
    }
   ],
   "source": [
    "df_loaded.head(5)"
   ]
  },
  {
   "cell_type": "markdown",
   "id": "f6f1fd89",
   "metadata": {},
   "source": [
    "### Task 7: General \n",
    "1. Download a sample dataset from Kaggle or use any public dataset. \n",
    "2. Write a Python program to:  \n",
    "o Load the dataset using Pandas. \n",
    "o Perform exploratory data analysis (EDA) by summarizing key \n",
    "statistics, checking for missing values, and visualizing data \n",
    "trends using Matplotlib or Seaborn. \n",
    "o Document your findings in Markdown or comments."
   ]
  },
  {
   "cell_type": "code",
   "execution_count": 2,
   "id": "74d275e5",
   "metadata": {},
   "outputs": [
    {
     "name": "stdout",
     "output_type": "stream",
     "text": [
      "First 5 Rows:\n",
      "  species     island  bill_length_mm  bill_depth_mm  flipper_length_mm  \\\n",
      "0  Adelie  Torgersen            39.1           18.7              181.0   \n",
      "1  Adelie  Torgersen            39.5           17.4              186.0   \n",
      "2  Adelie  Torgersen            40.3           18.0              195.0   \n",
      "3  Adelie  Torgersen             NaN            NaN                NaN   \n",
      "4  Adelie  Torgersen            36.7           19.3              193.0   \n",
      "\n",
      "   body_mass_g     sex  \n",
      "0       3750.0    Male  \n",
      "1       3800.0  Female  \n",
      "2       3250.0  Female  \n",
      "3          NaN     NaN  \n",
      "4       3450.0  Female  \n"
     ]
    }
   ],
   "source": [
    "import pandas as pd\n",
    "import seaborn as sns\n",
    "import matplotlib.pyplot as plt\n",
    "\n",
    "df = sns.load_dataset('penguins')\n",
    "\n",
    "df.to_csv(\"penguins_dataset.csv\", index=False)\n",
    "print(\"First 5 Rows:\")\n",
    "print(df.head())"
   ]
  },
  {
   "cell_type": "code",
   "execution_count": 4,
   "id": "72d69226",
   "metadata": {},
   "outputs": [
    {
     "name": "stdout",
     "output_type": "stream",
     "text": [
      "Shape of the Dataset: (344, 7)\n"
     ]
    }
   ],
   "source": [
    "print(\"Shape of the Dataset:\", df.shape)"
   ]
  },
  {
   "cell_type": "code",
   "execution_count": 5,
   "id": "711dcf90",
   "metadata": {},
   "outputs": [
    {
     "name": "stdout",
     "output_type": "stream",
     "text": [
      "Data Types:\n",
      "species               object\n",
      "island                object\n",
      "bill_length_mm       float64\n",
      "bill_depth_mm        float64\n",
      "flipper_length_mm    float64\n",
      "body_mass_g          float64\n",
      "sex                   object\n",
      "dtype: object\n"
     ]
    }
   ],
   "source": [
    "print(\"Data Types:\")\n",
    "print(df.dtypes)"
   ]
  },
  {
   "cell_type": "code",
   "execution_count": 6,
   "id": "96d0e729",
   "metadata": {},
   "outputs": [
    {
     "name": "stdout",
     "output_type": "stream",
     "text": [
      "Summary Statistics:\n",
      "       species  island  bill_length_mm  bill_depth_mm  flipper_length_mm  \\\n",
      "count      344     344      342.000000     342.000000         342.000000   \n",
      "unique       3       3             NaN            NaN                NaN   \n",
      "top     Adelie  Biscoe             NaN            NaN                NaN   \n",
      "freq       152     168             NaN            NaN                NaN   \n",
      "mean       NaN     NaN       43.921930      17.151170         200.915205   \n",
      "std        NaN     NaN        5.459584       1.974793          14.061714   \n",
      "min        NaN     NaN       32.100000      13.100000         172.000000   \n",
      "25%        NaN     NaN       39.225000      15.600000         190.000000   \n",
      "50%        NaN     NaN       44.450000      17.300000         197.000000   \n",
      "75%        NaN     NaN       48.500000      18.700000         213.000000   \n",
      "max        NaN     NaN       59.600000      21.500000         231.000000   \n",
      "\n",
      "        body_mass_g   sex  \n",
      "count    342.000000   333  \n",
      "unique          NaN     2  \n",
      "top             NaN  Male  \n",
      "freq            NaN   168  \n",
      "mean    4201.754386   NaN  \n",
      "std      801.954536   NaN  \n",
      "min     2700.000000   NaN  \n",
      "25%     3550.000000   NaN  \n",
      "50%     4050.000000   NaN  \n",
      "75%     4750.000000   NaN  \n",
      "max     6300.000000   NaN  \n"
     ]
    }
   ],
   "source": [
    "print(\"Summary Statistics:\")\n",
    "print(df.describe(include='all'))"
   ]
  },
  {
   "cell_type": "code",
   "execution_count": 7,
   "id": "d483eea3",
   "metadata": {},
   "outputs": [
    {
     "name": "stdout",
     "output_type": "stream",
     "text": [
      "Missing Values:\n",
      "species               0\n",
      "island                0\n",
      "bill_length_mm        2\n",
      "bill_depth_mm         2\n",
      "flipper_length_mm     2\n",
      "body_mass_g           2\n",
      "sex                  11\n",
      "dtype: int64\n"
     ]
    }
   ],
   "source": [
    "print(\"Missing Values:\")\n",
    "print(df.isnull().sum())"
   ]
  },
  {
   "cell_type": "markdown",
   "id": "9ff62f3f",
   "metadata": {},
   "source": [
    " ### Visualizations"
   ]
  },
  {
   "cell_type": "code",
   "execution_count": 9,
   "id": "8cf96d1f",
   "metadata": {},
   "outputs": [
    {
     "data": {
      "image/png": "[encoded data removed]",
      "text/plain": [
       "<Figure size 600x400 with 1 Axes>"
      ]
     },
     "metadata": {},
     "output_type": "display_data"
    }
   ],
   "source": [
    "# 1. Countplot - Species distribution\n",
    "plt.figure(figsize=(6,4))\n",
    "sns.countplot(data=df, x='species', hue='species', palette='Set2', legend=False)\n",
    "plt.title(\"Count of Penguin Species\")\n",
    "plt.show()"
   ]
  },
  {
   "cell_type": "code",
   "execution_count": 10,
   "id": "9158fa7b",
   "metadata": {},
   "outputs": [
    {
     "data": {
      "image/png": "[encoded data removed]",
      "text/plain": [
       "<Figure size 600x400 with 1 Axes>"
      ]
     },
     "metadata": {},
     "output_type": "display_data"
    }
   ],
   "source": [
    "# 2. Scatterplot - Flipper Length vs Body Mass\n",
    "plt.figure(figsize=(6,4))\n",
    "sns.scatterplot(data=df, x='flipper_length_mm', y='body_mass_g', hue='species')\n",
    "plt.title(\"Flipper Length vs Body Mass\")\n",
    "plt.show()"
   ]
  },
  {
   "cell_type": "code",
   "execution_count": 12,
   "id": "6eac033b",
   "metadata": {},
   "outputs": [
    {
     "data": {
      "image/png": "[encoded data removed]",
      "text/plain": [
       "<Figure size 600x400 with 1 Axes>"
      ]
     },
     "metadata": {},
     "output_type": "display_data"
    }
   ],
   "source": [
    "# 3. Boxplot - Bill Length by Species\n",
    "plt.figure(figsize=(6,4))\n",
    "sns.boxplot(data=df, x='species', y='bill_length_mm', hue='species', palette='pastel', legend=False)\n",
    "plt.title(\"Bill Length Distribution by Species\")\n",
    "plt.show()"
   ]
  },
  {
   "cell_type": "code",
   "execution_count": 13,
   "id": "d5e81f40",
   "metadata": {},
   "outputs": [
    {
     "data": {
      "image/png": "[encoded data removed]",
      "text/plain": [
       "<Figure size 800x500 with 2 Axes>"
      ]
     },
     "metadata": {},
     "output_type": "display_data"
    }
   ],
   "source": [
    "# 4. Correlation Heatmap\n",
    "plt.figure(figsize=(8,5))\n",
    "sns.heatmap(df.corr(numeric_only=True), annot=True, cmap='coolwarm')\n",
    "plt.title(\"Correlation Heatmap\")\n",
    "plt.show()"
   ]
  },
  {
   "cell_type": "markdown",
   "id": "7651a5f4",
   "metadata": {},
   "source": [
    "# Observations from EDA:\n",
    "\n",
    "- The dataset contains 344 records with 7 key features.\n",
    "- Some missing values exist in 'bill_length_mm', 'sex', and 'body_mass_g'.\n",
    "- Adelie penguins are the most common species in the dataset.\n",
    "- Flipper length and body mass have a positive correlation.\n",
    "- Bill length differs significantly across species — useful for classification.\n",
    "- The data appears clean overall with minimal noise."
   ]
  }
 ],
 "metadata": {
  "kernelspec": {
   "display_name": "Python 3",
   "language": "python",
   "name": "python3"
  },
  "language_info": {
   "codemirror_mode": {
    "name": "ipython",
    "version": 3
   },
   "file_extension": ".py",
   "mimetype": "text/x-python",
   "name": "python",
   "nbconvert_exporter": "python",
   "pygments_lexer": "ipython3",
   "version": "3.12.3"
  }
 },
 "nbformat": 4,
 "nbformat_minor": 5
}
